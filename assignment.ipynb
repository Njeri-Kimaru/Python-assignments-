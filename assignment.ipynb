{
 "cells": [
  {
   "cell_type": "markdown",
   "id": "4ccdf64e",
   "metadata": {},
   "source": [
    "###     Prime numbers"
   ]
  },
  {
   "cell_type": "code",
   "execution_count": null,
   "id": "2d67da8d",
   "metadata": {},
   "outputs": [],
   "source": [
    "# prime numbers\n",
    "prime_numbers = [i for i in range(0, 50) if all(i % n != 0 for n in range(2, int(i**0.5) + 1))]\n",
    "print(prime_numbers)\n"
   ]
  },
  {
   "cell_type": "markdown",
   "id": "ed3545bc",
   "metadata": {},
   "source": [
    "### Chatbot"
   ]
  },
  {
   "cell_type": "code",
   "execution_count": null,
   "id": "ed251045",
   "metadata": {},
   "outputs": [],
   "source": [
    "\n",
    "print (\"Hi there, Welcome to windy chatbot. How may I help you today? \")\n",
    "print(\"What would you like to know?\")\n",
    "\n",
    "\n",
    "while True:\n",
    "    question = (input(\"...\")).lower()\n",
    "\n",
    "    if  \"what is data science\" in question:\n",
    "        print(\"Good question. Data Science is the field that combines Statistics, Programming, Domain knowledge, Machine learning & AI, to extract insights and knowledge from data\")\n",
    "    elif  \"what is ai in full\" in question:\n",
    "        print(\"Artificial Intelligence\")\n",
    "    elif  \"what is ai\" in question:\n",
    "        print(\"It is the simulation of human intelligence by machines.\")\n",
    "    elif \"what is python\" in question:\n",
    "        print(\"Python is the most popular programming language for AI and Data Science due to its simplicity and rich libraries.\")\n",
    "    else:\n",
    "        print(\"I dont have the answer to this question\")"
   ]
  }
 ],
 "metadata": {
  "language_info": {
   "name": "python"
  }
 },
 "nbformat": 4,
 "nbformat_minor": 5
}
